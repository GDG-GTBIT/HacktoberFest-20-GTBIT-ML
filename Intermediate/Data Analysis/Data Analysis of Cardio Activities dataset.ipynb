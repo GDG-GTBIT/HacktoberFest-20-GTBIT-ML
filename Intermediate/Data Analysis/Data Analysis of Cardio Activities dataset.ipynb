{
 "cells": [
  {
   "cell_type": "code",
   "execution_count": 1,
   "metadata": {},
   "outputs": [
    {
     "data": {
      "text/html": [
       "<div>\n",
       "<style scoped>\n",
       "    .dataframe tbody tr th:only-of-type {\n",
       "        vertical-align: middle;\n",
       "    }\n",
       "\n",
       "    .dataframe tbody tr th {\n",
       "        vertical-align: top;\n",
       "    }\n",
       "\n",
       "    .dataframe thead th {\n",
       "        text-align: right;\n",
       "    }\n",
       "</style>\n",
       "<table border=\"1\" class=\"dataframe\">\n",
       "  <thead>\n",
       "    <tr style=\"text-align: right;\">\n",
       "      <th></th>\n",
       "      <th>Activity Id</th>\n",
       "      <th>Type</th>\n",
       "      <th>Route Name</th>\n",
       "      <th>Distance (km)</th>\n",
       "      <th>Duration</th>\n",
       "      <th>Average Pace</th>\n",
       "      <th>Average Speed (km/h)</th>\n",
       "      <th>Calories Burned</th>\n",
       "      <th>Climb (m)</th>\n",
       "      <th>Average Heart Rate (bpm)</th>\n",
       "      <th>Friend's Tagged</th>\n",
       "      <th>Notes</th>\n",
       "      <th>GPX File</th>\n",
       "    </tr>\n",
       "    <tr>\n",
       "      <th>Date</th>\n",
       "      <th></th>\n",
       "      <th></th>\n",
       "      <th></th>\n",
       "      <th></th>\n",
       "      <th></th>\n",
       "      <th></th>\n",
       "      <th></th>\n",
       "      <th></th>\n",
       "      <th></th>\n",
       "      <th></th>\n",
       "      <th></th>\n",
       "      <th></th>\n",
       "      <th></th>\n",
       "    </tr>\n",
       "  </thead>\n",
       "  <tbody>\n",
       "    <tr>\n",
       "      <th>2013-12-21 07:39:48</th>\n",
       "      <td>40fa8105-04cd-491a-a4f6-e32ed2849436</td>\n",
       "      <td>Running</td>\n",
       "      <td>NaN</td>\n",
       "      <td>6.34</td>\n",
       "      <td>36:02</td>\n",
       "      <td>5:41</td>\n",
       "      <td>10.56</td>\n",
       "      <td>454.0</td>\n",
       "      <td>33</td>\n",
       "      <td>NaN</td>\n",
       "      <td>NaN</td>\n",
       "      <td>NaN</td>\n",
       "      <td>2013-12-21-073948.gpx</td>\n",
       "    </tr>\n",
       "    <tr>\n",
       "      <th>2016-02-18 19:09:01</th>\n",
       "      <td>6b831381-6425-4a66-ada4-7f57f013ea05</td>\n",
       "      <td>Running</td>\n",
       "      <td>NaN</td>\n",
       "      <td>6.92</td>\n",
       "      <td>39:25</td>\n",
       "      <td>5:42</td>\n",
       "      <td>10.54</td>\n",
       "      <td>473.0</td>\n",
       "      <td>67</td>\n",
       "      <td>141.0</td>\n",
       "      <td>NaN</td>\n",
       "      <td>TomTom MySports Watch</td>\n",
       "      <td>2016-02-18-190901.gpx</td>\n",
       "    </tr>\n",
       "    <tr>\n",
       "      <th>2013-07-18 07:47:00</th>\n",
       "      <td>1eb83982-20b9-494a-954c-ed4152f01273</td>\n",
       "      <td>Running</td>\n",
       "      <td>NaN</td>\n",
       "      <td>6.15</td>\n",
       "      <td>32:36</td>\n",
       "      <td>5:18</td>\n",
       "      <td>11.33</td>\n",
       "      <td>416.0</td>\n",
       "      <td>30</td>\n",
       "      <td>NaN</td>\n",
       "      <td>NaN</td>\n",
       "      <td>NaN</td>\n",
       "      <td>2013-07-18-074700.gpx</td>\n",
       "    </tr>\n",
       "    <tr>\n",
       "      <th>2017-08-29 18:36:14</th>\n",
       "      <td>e7a75592-c649-4c99-96be-ec52d555beca</td>\n",
       "      <td>Running</td>\n",
       "      <td>NaN</td>\n",
       "      <td>12.70</td>\n",
       "      <td>1:07:42</td>\n",
       "      <td>5:20</td>\n",
       "      <td>11.25</td>\n",
       "      <td>901.0</td>\n",
       "      <td>127</td>\n",
       "      <td>147.0</td>\n",
       "      <td>NaN</td>\n",
       "      <td>TomTom MySports Watch</td>\n",
       "      <td>2017-08-29-183614.gpx</td>\n",
       "    </tr>\n",
       "  </tbody>\n",
       "</table>\n",
       "</div>"
      ],
      "text/plain": [
       "                                              Activity Id     Type Route Name  \\\n",
       "Date                                                                            \n",
       "2013-12-21 07:39:48  40fa8105-04cd-491a-a4f6-e32ed2849436  Running        NaN   \n",
       "2016-02-18 19:09:01  6b831381-6425-4a66-ada4-7f57f013ea05  Running        NaN   \n",
       "2013-07-18 07:47:00  1eb83982-20b9-494a-954c-ed4152f01273  Running        NaN   \n",
       "2017-08-29 18:36:14  e7a75592-c649-4c99-96be-ec52d555beca  Running        NaN   \n",
       "\n",
       "                     Distance (km) Duration Average Pace  \\\n",
       "Date                                                       \n",
       "2013-12-21 07:39:48           6.34    36:02         5:41   \n",
       "2016-02-18 19:09:01           6.92    39:25         5:42   \n",
       "2013-07-18 07:47:00           6.15    32:36         5:18   \n",
       "2017-08-29 18:36:14          12.70  1:07:42         5:20   \n",
       "\n",
       "                     Average Speed (km/h)  Calories Burned  Climb (m)  \\\n",
       "Date                                                                    \n",
       "2013-12-21 07:39:48                 10.56            454.0         33   \n",
       "2016-02-18 19:09:01                 10.54            473.0         67   \n",
       "2013-07-18 07:47:00                 11.33            416.0         30   \n",
       "2017-08-29 18:36:14                 11.25            901.0        127   \n",
       "\n",
       "                     Average Heart Rate (bpm)  Friend's Tagged  \\\n",
       "Date                                                             \n",
       "2013-12-21 07:39:48                       NaN              NaN   \n",
       "2016-02-18 19:09:01                     141.0              NaN   \n",
       "2013-07-18 07:47:00                       NaN              NaN   \n",
       "2017-08-29 18:36:14                     147.0              NaN   \n",
       "\n",
       "                                     Notes               GPX File  \n",
       "Date                                                               \n",
       "2013-12-21 07:39:48                    NaN  2013-12-21-073948.gpx  \n",
       "2016-02-18 19:09:01  TomTom MySports Watch  2016-02-18-190901.gpx  \n",
       "2013-07-18 07:47:00                    NaN  2013-07-18-074700.gpx  \n",
       "2017-08-29 18:36:14  TomTom MySports Watch  2017-08-29-183614.gpx  "
      ]
     },
     "execution_count": 1,
     "metadata": {},
     "output_type": "execute_result"
    }
   ],
   "source": [
    "# Import pandas under the alias pd\n",
    "import pandas as pd\n",
    "# Use the read_csv() function to load the dataset (runkeeper_file) into a variable called df_activities. \n",
    "# Parse the dates with the parse_dates parameter\n",
    "# set the index to the Date column using the index_col parameter.\n",
    "df_activities= pd.read_csv(r\".\\datasets\\cardioActivities.csv\", parse_dates=['Date'], index_col=0)\n",
    "# Display 3 random rows from df_activities using the sample() method.\n",
    "df_activities.sample(4)\n"
   ]
  },
  {
   "cell_type": "code",
   "execution_count": 2,
   "metadata": {},
   "outputs": [
    {
     "data": {
      "text/plain": [
       "Index(['Activity Id', 'Type', 'Route Name', 'Distance (km)', 'Duration',\n",
       "       'Average Pace', 'Average Speed (km/h)', 'Calories Burned', 'Climb (m)',\n",
       "       'Average Heart Rate (bpm)', 'Friend's Tagged', 'Notes', 'GPX File'],\n",
       "      dtype='object')"
      ]
     },
     "execution_count": 2,
     "metadata": {},
     "output_type": "execute_result"
    }
   ],
   "source": [
    "df_activities.columns"
   ]
  },
  {
   "cell_type": "code",
   "execution_count": 3,
   "metadata": {},
   "outputs": [
    {
     "name": "stdout",
     "output_type": "stream",
     "text": [
      "<class 'pandas.core.frame.DataFrame'>\n",
      "DatetimeIndex: 508 entries, 2018-11-11 14:05:12 to 2012-08-22 18:53:54\n",
      "Data columns (total 13 columns):\n",
      "Activity Id                 508 non-null object\n",
      "Type                        508 non-null object\n",
      "Route Name                  1 non-null object\n",
      "Distance (km)               508 non-null float64\n",
      "Duration                    508 non-null object\n",
      "Average Pace                508 non-null object\n",
      "Average Speed (km/h)        508 non-null float64\n",
      "Calories Burned             508 non-null float64\n",
      "Climb (m)                   508 non-null int64\n",
      "Average Heart Rate (bpm)    294 non-null float64\n",
      "Friend's Tagged             0 non-null float64\n",
      "Notes                       231 non-null object\n",
      "GPX File                    504 non-null object\n",
      "dtypes: float64(5), int64(1), object(7)\n",
      "memory usage: 55.6+ KB\n"
     ]
    }
   ],
   "source": [
    "# Print a summary of df_activities using the info() method.\n",
    "df_activities.info()"
   ]
  },
  {
   "cell_type": "code",
   "execution_count": 4,
   "metadata": {},
   "outputs": [],
   "source": [
    "cols_to_drop = [\n",
    "    \"Route Name\",\n",
    "    \"Friend's Tagged\",\n",
    "    \"Notes\"\n",
    "]"
   ]
  },
  {
   "cell_type": "code",
   "execution_count": 5,
   "metadata": {},
   "outputs": [
    {
     "data": {
      "text/html": [
       "<div>\n",
       "<style scoped>\n",
       "    .dataframe tbody tr th:only-of-type {\n",
       "        vertical-align: middle;\n",
       "    }\n",
       "\n",
       "    .dataframe tbody tr th {\n",
       "        vertical-align: top;\n",
       "    }\n",
       "\n",
       "    .dataframe thead th {\n",
       "        text-align: right;\n",
       "    }\n",
       "</style>\n",
       "<table border=\"1\" class=\"dataframe\">\n",
       "  <thead>\n",
       "    <tr style=\"text-align: right;\">\n",
       "      <th></th>\n",
       "      <th>Activity Id</th>\n",
       "      <th>Type</th>\n",
       "      <th>Distance (km)</th>\n",
       "      <th>Duration</th>\n",
       "      <th>Average Pace</th>\n",
       "      <th>Average Speed (km/h)</th>\n",
       "      <th>Calories Burned</th>\n",
       "      <th>Climb (m)</th>\n",
       "      <th>Average Heart Rate (bpm)</th>\n",
       "      <th>GPX File</th>\n",
       "    </tr>\n",
       "    <tr>\n",
       "      <th>Date</th>\n",
       "      <th></th>\n",
       "      <th></th>\n",
       "      <th></th>\n",
       "      <th></th>\n",
       "      <th></th>\n",
       "      <th></th>\n",
       "      <th></th>\n",
       "      <th></th>\n",
       "      <th></th>\n",
       "      <th></th>\n",
       "    </tr>\n",
       "  </thead>\n",
       "  <tbody>\n",
       "    <tr>\n",
       "      <th>2018-11-11 14:05:12</th>\n",
       "      <td>c9627fed-14ac-47a2-bed3-2a2630c63c15</td>\n",
       "      <td>Running</td>\n",
       "      <td>10.44</td>\n",
       "      <td>58:40</td>\n",
       "      <td>5:37</td>\n",
       "      <td>10.68</td>\n",
       "      <td>774.0</td>\n",
       "      <td>130</td>\n",
       "      <td>159.0</td>\n",
       "      <td>2018-11-11-140512.gpx</td>\n",
       "    </tr>\n",
       "    <tr>\n",
       "      <th>2018-11-09 15:02:35</th>\n",
       "      <td>be65818d-a801-4847-a43b-2acdf4dc70e7</td>\n",
       "      <td>Running</td>\n",
       "      <td>12.84</td>\n",
       "      <td>1:14:12</td>\n",
       "      <td>5:47</td>\n",
       "      <td>10.39</td>\n",
       "      <td>954.0</td>\n",
       "      <td>168</td>\n",
       "      <td>159.0</td>\n",
       "      <td>2018-11-09-150235.gpx</td>\n",
       "    </tr>\n",
       "    <tr>\n",
       "      <th>2018-11-04 16:05:00</th>\n",
       "      <td>c09b2f92-f855-497c-b624-c196b3ef036c</td>\n",
       "      <td>Running</td>\n",
       "      <td>13.01</td>\n",
       "      <td>1:15:16</td>\n",
       "      <td>5:47</td>\n",
       "      <td>10.37</td>\n",
       "      <td>967.0</td>\n",
       "      <td>171</td>\n",
       "      <td>155.0</td>\n",
       "      <td>2018-11-04-160500.gpx</td>\n",
       "    </tr>\n",
       "    <tr>\n",
       "      <th>2018-11-01 14:03:58</th>\n",
       "      <td>bc9b612d-3499-43ff-b82a-9b17b71b8a36</td>\n",
       "      <td>Running</td>\n",
       "      <td>12.98</td>\n",
       "      <td>1:14:25</td>\n",
       "      <td>5:44</td>\n",
       "      <td>10.47</td>\n",
       "      <td>960.0</td>\n",
       "      <td>169</td>\n",
       "      <td>158.0</td>\n",
       "      <td>2018-11-01-140358.gpx</td>\n",
       "    </tr>\n",
       "    <tr>\n",
       "      <th>2018-10-27 17:01:36</th>\n",
       "      <td>972567b2-1b0e-437c-9e82-fef8078d6438</td>\n",
       "      <td>Running</td>\n",
       "      <td>13.02</td>\n",
       "      <td>1:12:50</td>\n",
       "      <td>5:36</td>\n",
       "      <td>10.73</td>\n",
       "      <td>967.0</td>\n",
       "      <td>170</td>\n",
       "      <td>154.0</td>\n",
       "      <td>2018-10-27-170136.gpx</td>\n",
       "    </tr>\n",
       "  </tbody>\n",
       "</table>\n",
       "</div>"
      ],
      "text/plain": [
       "                                              Activity Id     Type  \\\n",
       "Date                                                                 \n",
       "2018-11-11 14:05:12  c9627fed-14ac-47a2-bed3-2a2630c63c15  Running   \n",
       "2018-11-09 15:02:35  be65818d-a801-4847-a43b-2acdf4dc70e7  Running   \n",
       "2018-11-04 16:05:00  c09b2f92-f855-497c-b624-c196b3ef036c  Running   \n",
       "2018-11-01 14:03:58  bc9b612d-3499-43ff-b82a-9b17b71b8a36  Running   \n",
       "2018-10-27 17:01:36  972567b2-1b0e-437c-9e82-fef8078d6438  Running   \n",
       "\n",
       "                     Distance (km) Duration Average Pace  \\\n",
       "Date                                                       \n",
       "2018-11-11 14:05:12          10.44    58:40         5:37   \n",
       "2018-11-09 15:02:35          12.84  1:14:12         5:47   \n",
       "2018-11-04 16:05:00          13.01  1:15:16         5:47   \n",
       "2018-11-01 14:03:58          12.98  1:14:25         5:44   \n",
       "2018-10-27 17:01:36          13.02  1:12:50         5:36   \n",
       "\n",
       "                     Average Speed (km/h)  Calories Burned  Climb (m)  \\\n",
       "Date                                                                    \n",
       "2018-11-11 14:05:12                 10.68            774.0        130   \n",
       "2018-11-09 15:02:35                 10.39            954.0        168   \n",
       "2018-11-04 16:05:00                 10.37            967.0        171   \n",
       "2018-11-01 14:03:58                 10.47            960.0        169   \n",
       "2018-10-27 17:01:36                 10.73            967.0        170   \n",
       "\n",
       "                     Average Heart Rate (bpm)               GPX File  \n",
       "Date                                                                  \n",
       "2018-11-11 14:05:12                     159.0  2018-11-11-140512.gpx  \n",
       "2018-11-09 15:02:35                     159.0  2018-11-09-150235.gpx  \n",
       "2018-11-04 16:05:00                     155.0  2018-11-04-160500.gpx  \n",
       "2018-11-01 14:03:58                     158.0  2018-11-01-140358.gpx  \n",
       "2018-10-27 17:01:36                     154.0  2018-10-27-170136.gpx  "
      ]
     },
     "execution_count": 5,
     "metadata": {},
     "output_type": "execute_result"
    }
   ],
   "source": [
    "df_activities.drop(cols_to_drop,axis=1,inplace =True)\n",
    "df_activities.head()"
   ]
  },
  {
   "cell_type": "code",
   "execution_count": 6,
   "metadata": {},
   "outputs": [
    {
     "data": {
      "text/plain": [
       "Index(['Activity Id', 'Type', 'Distance (km)', 'Duration', 'Average Pace',\n",
       "       'Average Speed (km/h)', 'Calories Burned', 'Climb (m)',\n",
       "       'Average Heart Rate (bpm)', 'GPX File'],\n",
       "      dtype='object')"
      ]
     },
     "execution_count": 6,
     "metadata": {},
     "output_type": "execute_result"
    }
   ],
   "source": [
    "df_activities.columns"
   ]
  },
  {
   "cell_type": "code",
   "execution_count": 7,
   "metadata": {},
   "outputs": [
    {
     "name": "stdout",
     "output_type": "stream",
     "text": [
      "<class 'pandas.core.frame.DataFrame'>\n",
      "DatetimeIndex: 508 entries, 2018-11-11 14:05:12 to 2012-08-22 18:53:54\n",
      "Data columns (total 10 columns):\n",
      "Activity Id                 508 non-null object\n",
      "Type                        508 non-null object\n",
      "Distance (km)               508 non-null float64\n",
      "Duration                    508 non-null object\n",
      "Average Pace                508 non-null object\n",
      "Average Speed (km/h)        508 non-null float64\n",
      "Calories Burned             508 non-null float64\n",
      "Climb (m)                   508 non-null int64\n",
      "Average Heart Rate (bpm)    294 non-null float64\n",
      "GPX File                    504 non-null object\n",
      "dtypes: float64(4), int64(1), object(5)\n",
      "memory usage: 43.7+ KB\n"
     ]
    }
   ],
   "source": [
    "df_activities.info()"
   ]
  },
  {
   "cell_type": "code",
   "execution_count": 8,
   "metadata": {},
   "outputs": [
    {
     "data": {
      "text/plain": [
       "Running    459\n",
       "Cycling     29\n",
       "Walking     18\n",
       "Other        2\n",
       "Name: Type, dtype: int64"
      ]
     },
     "execution_count": 8,
     "metadata": {},
     "output_type": "execute_result"
    }
   ],
   "source": [
    "df_activities['Type'].value_counts()"
   ]
  },
  {
   "cell_type": "code",
   "execution_count": 9,
   "metadata": {},
   "outputs": [
    {
     "data": {
      "text/html": [
       "<div>\n",
       "<style scoped>\n",
       "    .dataframe tbody tr th:only-of-type {\n",
       "        vertical-align: middle;\n",
       "    }\n",
       "\n",
       "    .dataframe tbody tr th {\n",
       "        vertical-align: top;\n",
       "    }\n",
       "\n",
       "    .dataframe thead th {\n",
       "        text-align: right;\n",
       "    }\n",
       "</style>\n",
       "<table border=\"1\" class=\"dataframe\">\n",
       "  <thead>\n",
       "    <tr style=\"text-align: right;\">\n",
       "      <th></th>\n",
       "      <th>Activity Id</th>\n",
       "      <th>Type</th>\n",
       "      <th>Distance (km)</th>\n",
       "      <th>Duration</th>\n",
       "      <th>Average Pace</th>\n",
       "      <th>Average Speed (km/h)</th>\n",
       "      <th>Calories Burned</th>\n",
       "      <th>Climb (m)</th>\n",
       "      <th>Average Heart Rate (bpm)</th>\n",
       "      <th>GPX File</th>\n",
       "    </tr>\n",
       "    <tr>\n",
       "      <th>Date</th>\n",
       "      <th></th>\n",
       "      <th></th>\n",
       "      <th></th>\n",
       "      <th></th>\n",
       "      <th></th>\n",
       "      <th></th>\n",
       "      <th></th>\n",
       "      <th></th>\n",
       "      <th></th>\n",
       "      <th></th>\n",
       "    </tr>\n",
       "  </thead>\n",
       "  <tbody>\n",
       "    <tr>\n",
       "      <th>2018-11-11 14:05:12</th>\n",
       "      <td>c9627fed-14ac-47a2-bed3-2a2630c63c15</td>\n",
       "      <td>Running</td>\n",
       "      <td>10.44</td>\n",
       "      <td>58:40</td>\n",
       "      <td>5:37</td>\n",
       "      <td>10.68</td>\n",
       "      <td>774.0</td>\n",
       "      <td>130</td>\n",
       "      <td>159.0</td>\n",
       "      <td>2018-11-11-140512.gpx</td>\n",
       "    </tr>\n",
       "    <tr>\n",
       "      <th>2018-11-09 15:02:35</th>\n",
       "      <td>be65818d-a801-4847-a43b-2acdf4dc70e7</td>\n",
       "      <td>Running</td>\n",
       "      <td>12.84</td>\n",
       "      <td>1:14:12</td>\n",
       "      <td>5:47</td>\n",
       "      <td>10.39</td>\n",
       "      <td>954.0</td>\n",
       "      <td>168</td>\n",
       "      <td>159.0</td>\n",
       "      <td>2018-11-09-150235.gpx</td>\n",
       "    </tr>\n",
       "    <tr>\n",
       "      <th>2018-11-04 16:05:00</th>\n",
       "      <td>c09b2f92-f855-497c-b624-c196b3ef036c</td>\n",
       "      <td>Running</td>\n",
       "      <td>13.01</td>\n",
       "      <td>1:15:16</td>\n",
       "      <td>5:47</td>\n",
       "      <td>10.37</td>\n",
       "      <td>967.0</td>\n",
       "      <td>171</td>\n",
       "      <td>155.0</td>\n",
       "      <td>2018-11-04-160500.gpx</td>\n",
       "    </tr>\n",
       "    <tr>\n",
       "      <th>2018-11-01 14:03:58</th>\n",
       "      <td>bc9b612d-3499-43ff-b82a-9b17b71b8a36</td>\n",
       "      <td>Running</td>\n",
       "      <td>12.98</td>\n",
       "      <td>1:14:25</td>\n",
       "      <td>5:44</td>\n",
       "      <td>10.47</td>\n",
       "      <td>960.0</td>\n",
       "      <td>169</td>\n",
       "      <td>158.0</td>\n",
       "      <td>2018-11-01-140358.gpx</td>\n",
       "    </tr>\n",
       "    <tr>\n",
       "      <th>2018-10-27 17:01:36</th>\n",
       "      <td>972567b2-1b0e-437c-9e82-fef8078d6438</td>\n",
       "      <td>Running</td>\n",
       "      <td>13.02</td>\n",
       "      <td>1:12:50</td>\n",
       "      <td>5:36</td>\n",
       "      <td>10.73</td>\n",
       "      <td>967.0</td>\n",
       "      <td>170</td>\n",
       "      <td>154.0</td>\n",
       "      <td>2018-10-27-170136.gpx</td>\n",
       "    </tr>\n",
       "  </tbody>\n",
       "</table>\n",
       "</div>"
      ],
      "text/plain": [
       "                                              Activity Id     Type  \\\n",
       "Date                                                                 \n",
       "2018-11-11 14:05:12  c9627fed-14ac-47a2-bed3-2a2630c63c15  Running   \n",
       "2018-11-09 15:02:35  be65818d-a801-4847-a43b-2acdf4dc70e7  Running   \n",
       "2018-11-04 16:05:00  c09b2f92-f855-497c-b624-c196b3ef036c  Running   \n",
       "2018-11-01 14:03:58  bc9b612d-3499-43ff-b82a-9b17b71b8a36  Running   \n",
       "2018-10-27 17:01:36  972567b2-1b0e-437c-9e82-fef8078d6438  Running   \n",
       "\n",
       "                     Distance (km) Duration Average Pace  \\\n",
       "Date                                                       \n",
       "2018-11-11 14:05:12          10.44    58:40         5:37   \n",
       "2018-11-09 15:02:35          12.84  1:14:12         5:47   \n",
       "2018-11-04 16:05:00          13.01  1:15:16         5:47   \n",
       "2018-11-01 14:03:58          12.98  1:14:25         5:44   \n",
       "2018-10-27 17:01:36          13.02  1:12:50         5:36   \n",
       "\n",
       "                     Average Speed (km/h)  Calories Burned  Climb (m)  \\\n",
       "Date                                                                    \n",
       "2018-11-11 14:05:12                 10.68            774.0        130   \n",
       "2018-11-09 15:02:35                 10.39            954.0        168   \n",
       "2018-11-04 16:05:00                 10.37            967.0        171   \n",
       "2018-11-01 14:03:58                 10.47            960.0        169   \n",
       "2018-10-27 17:01:36                 10.73            967.0        170   \n",
       "\n",
       "                     Average Heart Rate (bpm)               GPX File  \n",
       "Date                                                                  \n",
       "2018-11-11 14:05:12                     159.0  2018-11-11-140512.gpx  \n",
       "2018-11-09 15:02:35                     159.0  2018-11-09-150235.gpx  \n",
       "2018-11-04 16:05:00                     155.0  2018-11-04-160500.gpx  \n",
       "2018-11-01 14:03:58                     158.0  2018-11-01-140358.gpx  \n",
       "2018-10-27 17:01:36                     154.0  2018-10-27-170136.gpx  "
      ]
     },
     "execution_count": 9,
     "metadata": {},
     "output_type": "execute_result"
    }
   ],
   "source": [
    "df_activities['Type'] = df_activities['Type'].str.replace('Other','Unicycling')\n",
    "df_activities.head()"
   ]
  },
  {
   "cell_type": "code",
   "execution_count": 10,
   "metadata": {},
   "outputs": [
    {
     "data": {
      "text/plain": [
       "Activity Id                   0\n",
       "Type                          0\n",
       "Distance (km)                 0\n",
       "Duration                      0\n",
       "Average Pace                  0\n",
       "Average Speed (km/h)          0\n",
       "Calories Burned               0\n",
       "Climb (m)                     0\n",
       "Average Heart Rate (bpm)    214\n",
       "GPX File                      4\n",
       "dtype: int64"
      ]
     },
     "execution_count": 10,
     "metadata": {},
     "output_type": "execute_result"
    }
   ],
   "source": [
    "df_activities.isnull().sum()"
   ]
  },
  {
   "cell_type": "code",
   "execution_count": 11,
   "metadata": {},
   "outputs": [
    {
     "data": {
      "text/plain": [
       "124.4"
      ]
     },
     "execution_count": 11,
     "metadata": {},
     "output_type": "execute_result"
    }
   ],
   "source": [
    "#Task 3\n",
    "avg_hr_cycle = df_activities[df_activities['Type']== 'Cycling']['Average Heart Rate (bpm)'].mean()\n",
    "avg_hr_cycle"
   ]
  },
  {
   "cell_type": "code",
   "execution_count": 12,
   "metadata": {},
   "outputs": [
    {
     "data": {
      "text/html": [
       "<div>\n",
       "<style scoped>\n",
       "    .dataframe tbody tr th:only-of-type {\n",
       "        vertical-align: middle;\n",
       "    }\n",
       "\n",
       "    .dataframe tbody tr th {\n",
       "        vertical-align: top;\n",
       "    }\n",
       "\n",
       "    .dataframe thead th {\n",
       "        text-align: right;\n",
       "    }\n",
       "</style>\n",
       "<table border=\"1\" class=\"dataframe\">\n",
       "  <thead>\n",
       "    <tr style=\"text-align: right;\">\n",
       "      <th></th>\n",
       "      <th>Activity Id</th>\n",
       "      <th>Type</th>\n",
       "      <th>Distance (km)</th>\n",
       "      <th>Duration</th>\n",
       "      <th>Average Pace</th>\n",
       "      <th>Average Speed (km/h)</th>\n",
       "      <th>Calories Burned</th>\n",
       "      <th>Climb (m)</th>\n",
       "      <th>Average Heart Rate (bpm)</th>\n",
       "      <th>GPX File</th>\n",
       "    </tr>\n",
       "    <tr>\n",
       "      <th>Date</th>\n",
       "      <th></th>\n",
       "      <th></th>\n",
       "      <th></th>\n",
       "      <th></th>\n",
       "      <th></th>\n",
       "      <th></th>\n",
       "      <th></th>\n",
       "      <th></th>\n",
       "      <th></th>\n",
       "      <th></th>\n",
       "    </tr>\n",
       "  </thead>\n",
       "  <tbody>\n",
       "    <tr>\n",
       "      <th>2018-10-06 16:45:02</th>\n",
       "      <td>4c163abe-3a57-42fd-b50b-7f365960cbd4</td>\n",
       "      <td>Cycling</td>\n",
       "      <td>19.63</td>\n",
       "      <td>1:26:26</td>\n",
       "      <td>4:24</td>\n",
       "      <td>13.63</td>\n",
       "      <td>577.0</td>\n",
       "      <td>210</td>\n",
       "      <td>79.0</td>\n",
       "      <td>2018-10-06-164502.gpx</td>\n",
       "    </tr>\n",
       "    <tr>\n",
       "      <th>2018-09-16 14:55:03</th>\n",
       "      <td>30aaa821-1d3a-4f2f-9688-8543cebbd6e8</td>\n",
       "      <td>Cycling</td>\n",
       "      <td>32.61</td>\n",
       "      <td>1:55:15</td>\n",
       "      <td>3:32</td>\n",
       "      <td>16.98</td>\n",
       "      <td>830.0</td>\n",
       "      <td>462</td>\n",
       "      <td>118.0</td>\n",
       "      <td>2018-09-16-145503.gpx</td>\n",
       "    </tr>\n",
       "    <tr>\n",
       "      <th>2018-09-01 17:06:15</th>\n",
       "      <td>2bd1841f-b428-4683-a41b-2bfb4be7e908</td>\n",
       "      <td>Cycling</td>\n",
       "      <td>36.89</td>\n",
       "      <td>1:58:39</td>\n",
       "      <td>3:13</td>\n",
       "      <td>18.65</td>\n",
       "      <td>937.0</td>\n",
       "      <td>491</td>\n",
       "      <td>122.0</td>\n",
       "      <td>2018-09-01-170615.gpx</td>\n",
       "    </tr>\n",
       "    <tr>\n",
       "      <th>2018-08-28 18:44:33</th>\n",
       "      <td>c9a8e088-441d-4b3f-bfbc-287e87585ca7</td>\n",
       "      <td>Cycling</td>\n",
       "      <td>28.17</td>\n",
       "      <td>1:27:07</td>\n",
       "      <td>3:06</td>\n",
       "      <td>19.40</td>\n",
       "      <td>685.0</td>\n",
       "      <td>400</td>\n",
       "      <td>111.0</td>\n",
       "      <td>2018-08-28-184433.gpx</td>\n",
       "    </tr>\n",
       "    <tr>\n",
       "      <th>2018-08-25 17:18:32</th>\n",
       "      <td>12723b6e-571b-4b68-be17-2c797982d3f9</td>\n",
       "      <td>Cycling</td>\n",
       "      <td>19.41</td>\n",
       "      <td>1:11:33</td>\n",
       "      <td>3:41</td>\n",
       "      <td>16.28</td>\n",
       "      <td>536.0</td>\n",
       "      <td>199</td>\n",
       "      <td>124.0</td>\n",
       "      <td>2018-08-25-171832.gpx</td>\n",
       "    </tr>\n",
       "  </tbody>\n",
       "</table>\n",
       "</div>"
      ],
      "text/plain": [
       "                                              Activity Id     Type  \\\n",
       "Date                                                                 \n",
       "2018-10-06 16:45:02  4c163abe-3a57-42fd-b50b-7f365960cbd4  Cycling   \n",
       "2018-09-16 14:55:03  30aaa821-1d3a-4f2f-9688-8543cebbd6e8  Cycling   \n",
       "2018-09-01 17:06:15  2bd1841f-b428-4683-a41b-2bfb4be7e908  Cycling   \n",
       "2018-08-28 18:44:33  c9a8e088-441d-4b3f-bfbc-287e87585ca7  Cycling   \n",
       "2018-08-25 17:18:32  12723b6e-571b-4b68-be17-2c797982d3f9  Cycling   \n",
       "\n",
       "                     Distance (km) Duration Average Pace  \\\n",
       "Date                                                       \n",
       "2018-10-06 16:45:02          19.63  1:26:26         4:24   \n",
       "2018-09-16 14:55:03          32.61  1:55:15         3:32   \n",
       "2018-09-01 17:06:15          36.89  1:58:39         3:13   \n",
       "2018-08-28 18:44:33          28.17  1:27:07         3:06   \n",
       "2018-08-25 17:18:32          19.41  1:11:33         3:41   \n",
       "\n",
       "                     Average Speed (km/h)  Calories Burned  Climb (m)  \\\n",
       "Date                                                                    \n",
       "2018-10-06 16:45:02                 13.63            577.0        210   \n",
       "2018-09-16 14:55:03                 16.98            830.0        462   \n",
       "2018-09-01 17:06:15                 18.65            937.0        491   \n",
       "2018-08-28 18:44:33                 19.40            685.0        400   \n",
       "2018-08-25 17:18:32                 16.28            536.0        199   \n",
       "\n",
       "                     Average Heart Rate (bpm)               GPX File  \n",
       "Date                                                                  \n",
       "2018-10-06 16:45:02                      79.0  2018-10-06-164502.gpx  \n",
       "2018-09-16 14:55:03                     118.0  2018-09-16-145503.gpx  \n",
       "2018-09-01 17:06:15                     122.0  2018-09-01-170615.gpx  \n",
       "2018-08-28 18:44:33                     111.0  2018-08-28-184433.gpx  \n",
       "2018-08-25 17:18:32                     124.0  2018-08-25-171832.gpx  "
      ]
     },
     "execution_count": 12,
     "metadata": {},
     "output_type": "execute_result"
    }
   ],
   "source": [
    "df_cycle = df_activities[df_activities['Type'] == 'Cycling'].copy()\n",
    "df_cycle.head()"
   ]
  },
  {
   "cell_type": "code",
   "execution_count": null,
   "metadata": {},
   "outputs": [],
   "source": []
  },
  {
   "cell_type": "code",
   "execution_count": 13,
   "metadata": {},
   "outputs": [
    {
     "data": {
      "text/html": [
       "<div>\n",
       "<style scoped>\n",
       "    .dataframe tbody tr th:only-of-type {\n",
       "        vertical-align: middle;\n",
       "    }\n",
       "\n",
       "    .dataframe tbody tr th {\n",
       "        vertical-align: top;\n",
       "    }\n",
       "\n",
       "    .dataframe thead th {\n",
       "        text-align: right;\n",
       "    }\n",
       "</style>\n",
       "<table border=\"1\" class=\"dataframe\">\n",
       "  <thead>\n",
       "    <tr style=\"text-align: right;\">\n",
       "      <th></th>\n",
       "      <th>Activity Id</th>\n",
       "      <th>Type</th>\n",
       "      <th>Distance (km)</th>\n",
       "      <th>Duration</th>\n",
       "      <th>Average Pace</th>\n",
       "      <th>Average Speed (km/h)</th>\n",
       "      <th>Calories Burned</th>\n",
       "      <th>Climb (m)</th>\n",
       "      <th>Average Heart Rate (bpm)</th>\n",
       "      <th>GPX File</th>\n",
       "    </tr>\n",
       "    <tr>\n",
       "      <th>Date</th>\n",
       "      <th></th>\n",
       "      <th></th>\n",
       "      <th></th>\n",
       "      <th></th>\n",
       "      <th></th>\n",
       "      <th></th>\n",
       "      <th></th>\n",
       "      <th></th>\n",
       "      <th></th>\n",
       "      <th></th>\n",
       "    </tr>\n",
       "  </thead>\n",
       "  <tbody>\n",
       "    <tr>\n",
       "      <th>2018-10-06 16:45:02</th>\n",
       "      <td>4c163abe-3a57-42fd-b50b-7f365960cbd4</td>\n",
       "      <td>Cycling</td>\n",
       "      <td>19.63</td>\n",
       "      <td>1:26:26</td>\n",
       "      <td>4:24</td>\n",
       "      <td>13.63</td>\n",
       "      <td>577.0</td>\n",
       "      <td>210</td>\n",
       "      <td>79.0</td>\n",
       "      <td>2018-10-06-164502.gpx</td>\n",
       "    </tr>\n",
       "    <tr>\n",
       "      <th>2018-09-16 14:55:03</th>\n",
       "      <td>30aaa821-1d3a-4f2f-9688-8543cebbd6e8</td>\n",
       "      <td>Cycling</td>\n",
       "      <td>32.61</td>\n",
       "      <td>1:55:15</td>\n",
       "      <td>3:32</td>\n",
       "      <td>16.98</td>\n",
       "      <td>830.0</td>\n",
       "      <td>462</td>\n",
       "      <td>118.0</td>\n",
       "      <td>2018-09-16-145503.gpx</td>\n",
       "    </tr>\n",
       "    <tr>\n",
       "      <th>2018-09-01 17:06:15</th>\n",
       "      <td>2bd1841f-b428-4683-a41b-2bfb4be7e908</td>\n",
       "      <td>Cycling</td>\n",
       "      <td>36.89</td>\n",
       "      <td>1:58:39</td>\n",
       "      <td>3:13</td>\n",
       "      <td>18.65</td>\n",
       "      <td>937.0</td>\n",
       "      <td>491</td>\n",
       "      <td>122.0</td>\n",
       "      <td>2018-09-01-170615.gpx</td>\n",
       "    </tr>\n",
       "    <tr>\n",
       "      <th>2018-08-28 18:44:33</th>\n",
       "      <td>c9a8e088-441d-4b3f-bfbc-287e87585ca7</td>\n",
       "      <td>Cycling</td>\n",
       "      <td>28.17</td>\n",
       "      <td>1:27:07</td>\n",
       "      <td>3:06</td>\n",
       "      <td>19.40</td>\n",
       "      <td>685.0</td>\n",
       "      <td>400</td>\n",
       "      <td>111.0</td>\n",
       "      <td>2018-08-28-184433.gpx</td>\n",
       "    </tr>\n",
       "    <tr>\n",
       "      <th>2018-08-25 17:18:32</th>\n",
       "      <td>12723b6e-571b-4b68-be17-2c797982d3f9</td>\n",
       "      <td>Cycling</td>\n",
       "      <td>19.41</td>\n",
       "      <td>1:11:33</td>\n",
       "      <td>3:41</td>\n",
       "      <td>16.28</td>\n",
       "      <td>536.0</td>\n",
       "      <td>199</td>\n",
       "      <td>124.0</td>\n",
       "      <td>2018-08-25-171832.gpx</td>\n",
       "    </tr>\n",
       "  </tbody>\n",
       "</table>\n",
       "</div>"
      ],
      "text/plain": [
       "                                              Activity Id     Type  \\\n",
       "Date                                                                 \n",
       "2018-10-06 16:45:02  4c163abe-3a57-42fd-b50b-7f365960cbd4  Cycling   \n",
       "2018-09-16 14:55:03  30aaa821-1d3a-4f2f-9688-8543cebbd6e8  Cycling   \n",
       "2018-09-01 17:06:15  2bd1841f-b428-4683-a41b-2bfb4be7e908  Cycling   \n",
       "2018-08-28 18:44:33  c9a8e088-441d-4b3f-bfbc-287e87585ca7  Cycling   \n",
       "2018-08-25 17:18:32  12723b6e-571b-4b68-be17-2c797982d3f9  Cycling   \n",
       "\n",
       "                     Distance (km) Duration Average Pace  \\\n",
       "Date                                                       \n",
       "2018-10-06 16:45:02          19.63  1:26:26         4:24   \n",
       "2018-09-16 14:55:03          32.61  1:55:15         3:32   \n",
       "2018-09-01 17:06:15          36.89  1:58:39         3:13   \n",
       "2018-08-28 18:44:33          28.17  1:27:07         3:06   \n",
       "2018-08-25 17:18:32          19.41  1:11:33         3:41   \n",
       "\n",
       "                     Average Speed (km/h)  Calories Burned  Climb (m)  \\\n",
       "Date                                                                    \n",
       "2018-10-06 16:45:02                 13.63            577.0        210   \n",
       "2018-09-16 14:55:03                 16.98            830.0        462   \n",
       "2018-09-01 17:06:15                 18.65            937.0        491   \n",
       "2018-08-28 18:44:33                 19.40            685.0        400   \n",
       "2018-08-25 17:18:32                 16.28            536.0        199   \n",
       "\n",
       "                     Average Heart Rate (bpm)               GPX File  \n",
       "Date                                                                  \n",
       "2018-10-06 16:45:02                      79.0  2018-10-06-164502.gpx  \n",
       "2018-09-16 14:55:03                     118.0  2018-09-16-145503.gpx  \n",
       "2018-09-01 17:06:15                     122.0  2018-09-01-170615.gpx  \n",
       "2018-08-28 18:44:33                     111.0  2018-08-28-184433.gpx  \n",
       "2018-08-25 17:18:32                     124.0  2018-08-25-171832.gpx  "
      ]
     },
     "execution_count": 13,
     "metadata": {},
     "output_type": "execute_result"
    }
   ],
   "source": [
    "df_cycle['Average Heart Rate (bpm)'].fillna(value = int(avg_hr_cycle),inplace = True)\n",
    "df_cycle.head()"
   ]
  },
  {
   "cell_type": "code",
   "execution_count": 14,
   "metadata": {},
   "outputs": [
    {
     "data": {
      "text/plain": [
       "Activity Id                 0\n",
       "Type                        0\n",
       "Distance (km)               0\n",
       "Duration                    0\n",
       "Average Pace                0\n",
       "Average Speed (km/h)        0\n",
       "Calories Burned             0\n",
       "Climb (m)                   0\n",
       "Average Heart Rate (bpm)    0\n",
       "GPX File                    0\n",
       "dtype: int64"
      ]
     },
     "execution_count": 14,
     "metadata": {},
     "output_type": "execute_result"
    }
   ],
   "source": [
    "df_cycle.isnull().sum()"
   ]
  },
  {
   "cell_type": "code",
   "execution_count": 15,
   "metadata": {},
   "outputs": [],
   "source": [
    "avg_rn_cycle = df_activities[df_activities['Type']== 'Running']['Average Heart Rate (bpm)'].mean()\n",
    "df_run=df_activities[df_activities['Type']== 'Running'].copy()\n",
    "df_run['Average Heart Rate (bpm)'].fillna(value=int(avg_rn_cycle), inplace=True)"
   ]
  },
  {
   "cell_type": "code",
   "execution_count": 16,
   "metadata": {},
   "outputs": [
    {
     "data": {
      "text/plain": [
       "array([<matplotlib.axes._subplots.AxesSubplot object at 0x000001F6159317B8>,\n",
       "       <matplotlib.axes._subplots.AxesSubplot object at 0x000001F615B1BB00>,\n",
       "       <matplotlib.axes._subplots.AxesSubplot object at 0x000001F6160C0080>,\n",
       "       <matplotlib.axes._subplots.AxesSubplot object at 0x000001F6160E8710>,\n",
       "       <matplotlib.axes._subplots.AxesSubplot object at 0x000001F61610FDA0>],\n",
       "      dtype=object)"
      ]
     },
     "execution_count": 16,
     "metadata": {},
     "output_type": "execute_result"
    }
   ],
   "source": [
    "#Task 4\n",
    "import matplotlib.pyplot as plt\n",
    "runs_subset_2013_2018 = df_run.loc[\"20190101\":\"20130101\"]\n",
    "\n",
    "# plotting\n",
    "runs_subset_2013_2018.plot(subplots=True, sharex=False,figsize=(12,12), marker=\"o\", markersize=3)\n"
   ]
  },
  {
   "cell_type": "code",
   "execution_count": 17,
   "metadata": {},
   "outputs": [
    {
     "name": "stdout",
     "output_type": "stream",
     "text": [
      "Avg of my annual stats of 4 years\n"
     ]
    },
    {
     "data": {
      "text/html": [
       "<div>\n",
       "<style scoped>\n",
       "    .dataframe tbody tr th:only-of-type {\n",
       "        vertical-align: middle;\n",
       "    }\n",
       "\n",
       "    .dataframe tbody tr th {\n",
       "        vertical-align: top;\n",
       "    }\n",
       "\n",
       "    .dataframe thead th {\n",
       "        text-align: right;\n",
       "    }\n",
       "</style>\n",
       "<table border=\"1\" class=\"dataframe\">\n",
       "  <thead>\n",
       "    <tr style=\"text-align: right;\">\n",
       "      <th></th>\n",
       "      <th>Distance (km)</th>\n",
       "      <th>Average Speed (km/h)</th>\n",
       "      <th>Calories Burned</th>\n",
       "      <th>Climb (m)</th>\n",
       "      <th>Average Heart Rate (bpm)</th>\n",
       "    </tr>\n",
       "    <tr>\n",
       "      <th>Date</th>\n",
       "      <th></th>\n",
       "      <th></th>\n",
       "      <th></th>\n",
       "      <th></th>\n",
       "      <th></th>\n",
       "    </tr>\n",
       "  </thead>\n",
       "  <tbody>\n",
       "    <tr>\n",
       "      <th>2015-12-31</th>\n",
       "      <td>13.602805</td>\n",
       "      <td>10.998902</td>\n",
       "      <td>932.906138</td>\n",
       "      <td>160.170732</td>\n",
       "      <td>143.353659</td>\n",
       "    </tr>\n",
       "    <tr>\n",
       "      <th>2016-12-31</th>\n",
       "      <td>11.411667</td>\n",
       "      <td>10.837778</td>\n",
       "      <td>796.152777</td>\n",
       "      <td>133.194444</td>\n",
       "      <td>143.388889</td>\n",
       "    </tr>\n",
       "    <tr>\n",
       "      <th>2017-12-31</th>\n",
       "      <td>12.935176</td>\n",
       "      <td>10.959059</td>\n",
       "      <td>914.164706</td>\n",
       "      <td>169.376471</td>\n",
       "      <td>145.247059</td>\n",
       "    </tr>\n",
       "    <tr>\n",
       "      <th>2018-12-31</th>\n",
       "      <td>13.339063</td>\n",
       "      <td>10.777969</td>\n",
       "      <td>952.359375</td>\n",
       "      <td>191.218750</td>\n",
       "      <td>148.125000</td>\n",
       "    </tr>\n",
       "  </tbody>\n",
       "</table>\n",
       "</div>"
      ],
      "text/plain": [
       "            Distance (km)  Average Speed (km/h)  Calories Burned   Climb (m)  \\\n",
       "Date                                                                           \n",
       "2015-12-31      13.602805             10.998902       932.906138  160.170732   \n",
       "2016-12-31      11.411667             10.837778       796.152777  133.194444   \n",
       "2017-12-31      12.935176             10.959059       914.164706  169.376471   \n",
       "2018-12-31      13.339063             10.777969       952.359375  191.218750   \n",
       "\n",
       "            Average Heart Rate (bpm)  \n",
       "Date                                  \n",
       "2015-12-31                143.353659  \n",
       "2016-12-31                143.388889  \n",
       "2017-12-31                145.247059  \n",
       "2018-12-31                148.125000  "
      ]
     },
     "metadata": {},
     "output_type": "display_data"
    }
   ],
   "source": [
    "#Task 5\n",
    "runs_subset_2015_2018=df_run.loc['20190101':'20150101']\n",
    "#Counting the annual averages using 'A' alias\n",
    "print(\"Avg of my annual stats of 4 years\")\n",
    "display(runs_subset_2015_2018.resample('A').mean())"
   ]
  },
  {
   "cell_type": "code",
   "execution_count": 18,
   "metadata": {},
   "outputs": [
    {
     "name": "stdout",
     "output_type": "stream",
     "text": [
      "Avg of my Weekly stats of 4 years\n"
     ]
    },
    {
     "data": {
      "text/plain": [
       "Distance (km)                12.518176\n",
       "Average Speed (km/h)         10.835473\n",
       "Calories Burned             877.861969\n",
       "Climb (m)                   158.325444\n",
       "Average Heart Rate (bpm)    144.801775\n",
       "dtype: float64"
      ]
     },
     "metadata": {},
     "output_type": "display_data"
    }
   ],
   "source": [
    "#Counting the weekly averages using 'W' alias\n",
    "print(\"Avg of my Weekly stats of 4 years\")\n",
    "display(runs_subset_2015_2018.resample('W').mean().mean())"
   ]
  },
  {
   "cell_type": "code",
   "execution_count": 19,
   "metadata": {},
   "outputs": [
    {
     "name": "stdout",
     "output_type": "stream",
     "text": [
      "1.5\n"
     ]
    }
   ],
   "source": [
    "weekly_counts_average=runs_subset_2015_2018['Distance (km)'].resample('W').count().mean()\n",
    "print(weekly_counts_average)"
   ]
  },
  {
   "cell_type": "code",
   "execution_count": 20,
   "metadata": {},
   "outputs": [],
   "source": [
    "#Task6\n",
    "runs_distance=runs_subset_2015_2018['Distance (km)']\n",
    "runs_hr=runs_subset_2015_2018['Average Heart Rate (bpm)']"
   ]
  },
  {
   "cell_type": "code",
   "execution_count": 21,
   "metadata": {},
   "outputs": [
    {
     "data": {
      "text/plain": [
       "<matplotlib.lines.Line2D at 0x1f616896588>"
      ]
     },
     "execution_count": 21,
     "metadata": {},
     "output_type": "execute_result"
    },
    {
     "data": {
      "image/png": "[encoded data removed]",
      "text/plain": [
       "<Figure size 864x576 with 2 Axes>"
      ]
     },
     "metadata": {},
     "output_type": "display_data"
    }
   ],
   "source": [
    "fig,(ax1,ax2)=plt.subplots(2,sharex=True,figsize=(12,8))\n",
    "#plotting the first subplot.\n",
    "ax1=runs_distance.plot(ax=ax1)\n",
    "ax1.set(ylabel='Distace(KM)')\n",
    "#plotting the second subplot.\n",
    "runs_hr.plot(ax=ax2)\n",
    "ax2.set(xlabel='Date')\n",
    "ax2.axhline(runs_hr.mean(),color=\"blue\",linewidth=1,linestyle='-.')"
   ]
  },
  {
   "cell_type": "code",
   "execution_count": 22,
   "metadata": {},
   "outputs": [
    {
     "name": "stdout",
     "output_type": "stream",
     "text": [
      "459\n"
     ]
    }
   ],
   "source": [
    "#Task7\n",
    "df_run_dist_annual=df_run[\"Distance (km)\"].resample(\"A\").count()\n",
    "print(df_run_dist_annual.sum())"
   ]
  },
  {
   "cell_type": "code",
   "execution_count": 23,
   "metadata": {},
   "outputs": [
    {
     "data": {
      "text/plain": [
       "<matplotlib.patches.Polygon at 0x1f61692d908>"
      ]
     },
     "execution_count": 23,
     "metadata": {},
     "output_type": "execute_result"
    },
    {
     "data": {
      "image/png": "[encoded data removed]",
      "text/plain": [
       "<Figure size 576x360 with 1 Axes>"
      ]
     },
     "metadata": {},
     "output_type": "display_data"
    }
   ],
   "source": [
    "fig=plt.figure(figsize=(8,5))\n",
    "ax=df_run_dist_annual.plot(marker=\"*\", markersize=20,linewidth=0, color=\"blue\")\n",
    "ax.set(ylim=[0,800],xlim=[\"2012\",\"2019\"],ylabel=\"Distance(km)\")\n",
    "ax.axhspan(0,800,color=\"red\",alpha=0.2)"
   ]
  },
  {
   "cell_type": "code",
   "execution_count": 24,
   "metadata": {},
   "outputs": [
    {
     "data": {
      "image/png": "[encoded data removed]",
      "text/plain": [
       "<Figure size 864x360 with 1 Axes>"
      ]
     },
     "metadata": {},
     "output_type": "display_data"
    }
   ],
   "source": [
    "#Task 8\n",
    "import statsmodels.api as sm\n",
    "#Filling NaN values in Distance(km) col.\n",
    "df_run_dist_wkly=df_run[\"Distance (km)\"].resample('W').bfill()\n",
    "fig=plt.figure(figsize=(12,5))\n",
    "ax=df_run_dist_wkly.plot(label=\"Trend\", linewidth=2)\n",
    "ax.legend()\n",
    "plt.show()"
   ]
  },
  {
   "cell_type": "code",
   "execution_count": 25,
   "metadata": {},
   "outputs": [
    {
     "data": {
      "image/png": "[encoded data removed]",
      "text/plain": [
       "<Figure size 576x360 with 1 Axes>"
      ]
     },
     "metadata": {},
     "output_type": "display_data"
    }
   ],
   "source": [
    "#Task 9\n",
    "df_run_hr_all=df_run.loc[\"20190101\":\"20150101\"][\"Average Heart Rate (bpm)\"]\n",
    "fig,ax=plt.subplots(figsize=(8,5))\n",
    "zone_names = [\"Easy\", \"Moderate\", \"hard\", \"Very Hard\", \"maximal\",\"Extreme\"]\n",
    "hr_zones = [100,125,133,142,151,173]\n",
    "ax.hist(df_run_hr_all,bins=hr_zones)\n",
    "ax.set_xticklabels(labels=zone_names, rotation=-30, ha=\"left\")\n",
    "ax.xaxis.set(ticks=hr_zones)\n",
    "plt.show()"
   ]
  },
  {
   "cell_type": "code",
   "execution_count": 26,
   "metadata": {},
   "outputs": [],
   "source": [
    "#Task 10\n",
    "df_walk = df_activities[df_activities[\"Type\"]==\"Walking\"].copy()\n",
    "df_walk[\"Average Heart Rate (bpm)\"].fillna(110,inplace=True)\n",
    "\n",
    "# concatenating the df_run, df_walk & df_cycle DataFrame\n",
    "df_run_walk_cycle = df_run.append([df_walk], [df_cycle]).sort_index(ascending=False)"
   ]
  },
  {
   "cell_type": "code",
   "execution_count": 37,
   "metadata": {},
   "outputs": [
    {
     "name": "stdout",
     "output_type": "stream",
     "text": [
      "         Distance (km)  Climb (m)\n",
      "Type                             \n",
      "Running        5224.50      57278\n",
      "Walking          33.45        349\n"
     ]
    }
   ],
   "source": [
    "dist_climb_cols, speed_col = [\"Distance (km)\",\"Climb (m)\"],[\"Average Heart Rate (bpm)\"]\n",
    "\n",
    "# calcultating total distance and climb in each activity type\n",
    "df_totals = df_run_walk_cycle.groupby(\"Type\")[dist_climb_cols].sum()\n",
    "print(df_totals)"
   ]
  },
  {
   "cell_type": "code",
   "execution_count": 38,
   "metadata": {},
   "outputs": [
    {
     "name": "stdout",
     "output_type": "stream",
     "text": [
      "Total Statistics\n"
     ]
    },
    {
     "data": {
      "text/html": [
       "<div>\n",
       "<style scoped>\n",
       "    .dataframe tbody tr th:only-of-type {\n",
       "        vertical-align: middle;\n",
       "    }\n",
       "\n",
       "    .dataframe tbody tr th {\n",
       "        vertical-align: top;\n",
       "    }\n",
       "\n",
       "    .dataframe thead th {\n",
       "        text-align: right;\n",
       "    }\n",
       "</style>\n",
       "<table border=\"1\" class=\"dataframe\">\n",
       "  <thead>\n",
       "    <tr style=\"text-align: right;\">\n",
       "      <th></th>\n",
       "      <th></th>\n",
       "      <th>Average Heart Rate (bpm)</th>\n",
       "      <th>Climb (m)</th>\n",
       "      <th>Distance (km)</th>\n",
       "    </tr>\n",
       "    <tr>\n",
       "      <th>Type</th>\n",
       "      <th></th>\n",
       "      <th></th>\n",
       "      <th></th>\n",
       "      <th></th>\n",
       "    </tr>\n",
       "  </thead>\n",
       "  <tbody>\n",
       "    <tr>\n",
       "      <th rowspan=\"9\" valign=\"top\">Running</th>\n",
       "      <th>25%</th>\n",
       "      <td>143.000000</td>\n",
       "      <td>54.000000</td>\n",
       "      <td>7.415000</td>\n",
       "    </tr>\n",
       "    <tr>\n",
       "      <th>50%</th>\n",
       "      <td>144.000000</td>\n",
       "      <td>91.000000</td>\n",
       "      <td>10.810000</td>\n",
       "    </tr>\n",
       "    <tr>\n",
       "      <th>75%</th>\n",
       "      <td>146.000000</td>\n",
       "      <td>171.000000</td>\n",
       "      <td>13.190000</td>\n",
       "    </tr>\n",
       "    <tr>\n",
       "      <th>count</th>\n",
       "      <td>459.000000</td>\n",
       "      <td>459.000000</td>\n",
       "      <td>459.000000</td>\n",
       "    </tr>\n",
       "    <tr>\n",
       "      <th>max</th>\n",
       "      <td>172.000000</td>\n",
       "      <td>982.000000</td>\n",
       "      <td>38.320000</td>\n",
       "    </tr>\n",
       "    <tr>\n",
       "      <th>mean</th>\n",
       "      <td>144.594771</td>\n",
       "      <td>124.788671</td>\n",
       "      <td>11.382353</td>\n",
       "    </tr>\n",
       "    <tr>\n",
       "      <th>min</th>\n",
       "      <td>113.000000</td>\n",
       "      <td>0.000000</td>\n",
       "      <td>0.760000</td>\n",
       "    </tr>\n",
       "    <tr>\n",
       "      <th>std</th>\n",
       "      <td>6.069939</td>\n",
       "      <td>103.382177</td>\n",
       "      <td>4.937853</td>\n",
       "    </tr>\n",
       "    <tr>\n",
       "      <th>total</th>\n",
       "      <td>NaN</td>\n",
       "      <td>57278.000000</td>\n",
       "      <td>5224.500000</td>\n",
       "    </tr>\n",
       "    <tr>\n",
       "      <th rowspan=\"9\" valign=\"top\">Walking</th>\n",
       "      <th>25%</th>\n",
       "      <td>110.000000</td>\n",
       "      <td>7.000000</td>\n",
       "      <td>1.385000</td>\n",
       "    </tr>\n",
       "    <tr>\n",
       "      <th>50%</th>\n",
       "      <td>110.000000</td>\n",
       "      <td>10.000000</td>\n",
       "      <td>1.485000</td>\n",
       "    </tr>\n",
       "    <tr>\n",
       "      <th>75%</th>\n",
       "      <td>110.000000</td>\n",
       "      <td>15.500000</td>\n",
       "      <td>1.787500</td>\n",
       "    </tr>\n",
       "    <tr>\n",
       "      <th>count</th>\n",
       "      <td>18.000000</td>\n",
       "      <td>18.000000</td>\n",
       "      <td>18.000000</td>\n",
       "    </tr>\n",
       "    <tr>\n",
       "      <th>max</th>\n",
       "      <td>110.000000</td>\n",
       "      <td>112.000000</td>\n",
       "      <td>4.290000</td>\n",
       "    </tr>\n",
       "    <tr>\n",
       "      <th>mean</th>\n",
       "      <td>110.000000</td>\n",
       "      <td>19.388889</td>\n",
       "      <td>1.858333</td>\n",
       "    </tr>\n",
       "    <tr>\n",
       "      <th>min</th>\n",
       "      <td>110.000000</td>\n",
       "      <td>5.000000</td>\n",
       "      <td>1.220000</td>\n",
       "    </tr>\n",
       "    <tr>\n",
       "      <th>std</th>\n",
       "      <td>0.000000</td>\n",
       "      <td>27.110100</td>\n",
       "      <td>0.880055</td>\n",
       "    </tr>\n",
       "    <tr>\n",
       "      <th>total</th>\n",
       "      <td>NaN</td>\n",
       "      <td>349.000000</td>\n",
       "      <td>33.450000</td>\n",
       "    </tr>\n",
       "  </tbody>\n",
       "</table>\n",
       "</div>"
      ],
      "text/plain": [
       "               Average Heart Rate (bpm)     Climb (m)  Distance (km)\n",
       "Type                                                                \n",
       "Running 25%                  143.000000     54.000000       7.415000\n",
       "        50%                  144.000000     91.000000      10.810000\n",
       "        75%                  146.000000    171.000000      13.190000\n",
       "        count                459.000000    459.000000     459.000000\n",
       "        max                  172.000000    982.000000      38.320000\n",
       "        mean                 144.594771    124.788671      11.382353\n",
       "        min                  113.000000      0.000000       0.760000\n",
       "        std                    6.069939    103.382177       4.937853\n",
       "        total                       NaN  57278.000000    5224.500000\n",
       "Walking 25%                  110.000000      7.000000       1.385000\n",
       "        50%                  110.000000     10.000000       1.485000\n",
       "        75%                  110.000000     15.500000       1.787500\n",
       "        count                 18.000000     18.000000      18.000000\n",
       "        max                  110.000000    112.000000       4.290000\n",
       "        mean                 110.000000     19.388889       1.858333\n",
       "        min                  110.000000      5.000000       1.220000\n",
       "        std                    0.000000     27.110100       0.880055\n",
       "        total                       NaN    349.000000      33.450000"
      ]
     },
     "execution_count": 38,
     "metadata": {},
     "output_type": "execute_result"
    }
   ],
   "source": [
    "# full summary report\n",
    "df_summary = df_run_walk_cycle.groupby(\"Type\")[dist_climb_cols + speed_col].describe()\n",
    "\n",
    "# total summary \n",
    "for i in dist_climb_cols:\n",
    "  df_summary[i, \"total\"] = df_totals[i]\n",
    "print(\"Total Statistics\")\n",
    "df_summary.stack()"
   ]
  },
  {
   "cell_type": "code",
   "execution_count": 39,
   "metadata": {},
   "outputs": [
    {
     "name": "stdout",
     "output_type": "stream",
     "text": [
      "33.0\n"
     ]
    }
   ],
   "source": [
    "#Task11\n",
    "# average shoes for lifetime\n",
    "average_shoes_lifetime = 5224/7\n",
    "\n",
    "#number of shoes for forest run\n",
    "shoes_for_forrest_run = 24700//average_shoes_lifetime\n",
    "print(shoes_for_forrest_run)"
   ]
  },
  {
   "cell_type": "code",
   "execution_count": null,
   "metadata": {},
   "outputs": [],
   "source": []
  }
 ],
 "metadata": {
  "kernelspec": {
   "display_name": "Python 3",
   "language": "python",
   "name": "python3"
  },
  "language_info": {
   "codemirror_mode": {
    "name": "ipython",
    "version": 3
   },
   "file_extension": ".py",
   "mimetype": "text/x-python",
   "name": "python",
   "nbconvert_exporter": "python",
   "pygments_lexer": "ipython3",
   "version": "3.7.2"
  }
 },
 "nbformat": 4,
 "nbformat_minor": 2
}
